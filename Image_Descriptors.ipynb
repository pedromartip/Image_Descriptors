{
 "cells": [
  {
   "cell_type": "markdown",
   "metadata": {
    "deletable": false,
    "editable": false,
    "nbgrader": {
     "cell_type": "markdown",
     "checksum": "b361c569619c5777091368813c9298fb",
     "grade": false,
     "grade_id": "cell_head_1",
     "locked": true,
     "schema_version": 3,
     "solution": false,
     "task": false
    }
   },
   "source": [
    "# 11762 Content-Based Image Retrieval\n",
    "## Master's Degree in Intelligent Systems\n",
    "### University of the Balearic Islands\n",
    "\n",
    "---\n",
    "\n",
    "**Before you turn this problem in, please put your full names and DNIs (or NIEs) below, and execute the cell:**"
   ]
  },
  {
   "cell_type": "code",
   "execution_count": null,
   "metadata": {},
   "outputs": [],
   "source": [
    "NAME  = \"Pedro Marti Pico\"\n",
    "DNI   = \"41574536N\"\n",
    "\n",
    "NAME2 = 'Raixa A. Madueño Mallofré'\n",
    "DNI2  = '49867599B'"
   ]
  },
  {
   "cell_type": "markdown",
   "metadata": {
    "deletable": false,
    "editable": false,
    "nbgrader": {
     "cell_type": "markdown",
     "checksum": "6e99971bb70936fbf488fd64ed0c1efa",
     "grade": false,
     "grade_id": "cell_head_2",
     "locked": true,
     "schema_version": 3,
     "solution": false,
     "task": false
    }
   },
   "source": [
    "Make sure you fill in any place that says `YOUR CODE HERE` or `YOUR ANSWER HERE`. **Justify** all of your answers, **graphically** wherever possible. Remember that this notebook will be considered as a report to the work done during the assignment.\n",
    "\n",
    "---"
   ]
  },
  {
   "cell_type": "code",
   "execution_count": null,
   "metadata": {
    "deletable": false,
    "editable": false,
    "nbgrader": {
     "cell_type": "code",
     "checksum": "df4480f7fc9f80dfb8a5e8342ac6f824",
     "grade": false,
     "grade_id": "cell-28c6b16292f88109",
     "locked": true,
     "schema_version": 3,
     "solution": false,
     "task": false
    }
   },
   "outputs": [],
   "source": [
    "# Setup code for this assignment\n",
    "import cv2\n",
    "import math\n",
    "import numpy as np\n",
    "import os\n",
    "import skimage.feature as skfeat\n",
    "import zipfile\n",
    "\n",
    "## Adding parent folder to find other libs\n",
    "import sys\n",
    "if \"..\" not in sys.path:\n",
    "    sys.path.insert(0,\"..\")\n",
    "    \n",
    "import iric_dev_kit.iric_utils.eval_holidays as ev\n",
    "\n",
    "# Configuring Matplotlib\n",
    "from matplotlib import pyplot as plt\n",
    "%matplotlib inline"
   ]
  },
  {
   "cell_type": "markdown",
   "metadata": {
    "deletable": false,
    "editable": false,
    "nbgrader": {
     "cell_type": "markdown",
     "checksum": "2bb9e784ff104b808e847f731952b9c5",
     "grade": false,
     "grade_id": "cell-4067acd94a6d9403",
     "locked": true,
     "schema_version": 3,
     "solution": false,
     "task": false
    }
   },
   "source": [
    "## Introduction\n",
    "In this assignment, you will first learn the tools that we will used during the labs. Then, you will implement and evaluate some image description methods to develop a simple CBIR system."
   ]
  },
  {
   "cell_type": "markdown",
   "metadata": {
    "deletable": false,
    "editable": false,
    "nbgrader": {
     "cell_type": "markdown",
     "checksum": "bea0e0ae5f5873145881a81d26a715b6",
     "grade": false,
     "grade_id": "cell-0190ed3e633d535f",
     "locked": true,
     "schema_version": 3,
     "solution": false,
     "task": false
    }
   },
   "source": [
    "### Tools\n",
    "Several tools and libraries will be used throughout the semester, like:\n",
    "\n",
    "*   [Python 3](https://docs.python.org/3/tutorial/)\n",
    "*   [Numpy](https://docs.scipy.org/doc/numpy/user/quickstart.html)\n",
    "*   [OpenCV](https://docs.opencv.org/master/d6/d00/tutorial_py_root.html)\n",
    "\n",
    "It is important to be familiar with them. If that is not the case, please, follow the links above and have a look at the tutorials. There are some quickstart guides available on the course website on [Aula Digital](https://ad.uib.es/)."
   ]
  },
  {
   "cell_type": "markdown",
   "metadata": {
    "deletable": false,
    "editable": false,
    "nbgrader": {
     "cell_type": "markdown",
     "checksum": "c6be4b2076349290617f32f349022ebc",
     "grade": false,
     "grade_id": "cell-0db04098d9ae2f11",
     "locked": true,
     "schema_version": 3,
     "solution": false,
     "task": false
    }
   },
   "source": [
    "### The INRIA Holidays dataset\n",
    "During this course, we will mainly use the INRIA Holidays dataset. This dataset is a set of images which contains some personal holidays photos of the authors. The remaining ones were taken on purpose to test the robustness to various image transformations: rotations, viewpoint and illumination changes, blurring, etc. The dataset includes a very large variety of scene types (natural, man-made, water, fire effects, etc) and images are in high resolution. The dataset contains 500 image groups, each of which represents a distinct scene or object. \n",
    "\n",
    "For evaluation purposes, the first image of each group is used as the query image and the correct retrieval results are the other images of the group. For instance, the image named *100900.jpg* will be used as query while the corresponding relevant images for this query are images *100901.jpg* and *100902.jpg*, which belongs to the same group.\n",
    "\n",
    "There are **1491 images in total**, from which **500** are **queries** (one for each group) and the remaining **991** are their corresponding **relevant images**.\n",
    "\n",
    "### The INRIA Holidays Mini dataset\n",
    "For development purposes, a small version of the INRIA Holidays dataset is provided for this course. In this reduced version of the dataset, there are **50 images in total**, from which **19** are **queries** and the remaining **31** are their corresponding **relevant images**.\n",
    "\n",
    "> **Both datasets must be downloaded from [Aula Digital](https://ad.uib.es/) and unzipped into the root directory of the development kit**."
   ]
  },
  {
   "cell_type": "markdown",
   "metadata": {
    "deletable": false,
    "editable": false,
    "nbgrader": {
     "cell_type": "markdown",
     "checksum": "26d3c89ae6f4309aff6648606da4fbce",
     "grade": false,
     "grade_id": "cell-6e6e4e30c860833f",
     "locked": true,
     "schema_version": 3,
     "solution": false,
     "task": false
    }
   },
   "source": [
    "### Performance evaluation\n",
    "You are provided with a script to evaluate a CBIR system on these datasets. The performance is measured in terms of **Mean Average Precision** (mAP), averaged over all queries (500 or 19, depending on the version of the dataset used). **This script is included in the development kit**.\n",
    "\n",
    "This library provides two ways of calculating the mAP for a given set of results:\n",
    "* Using the function `compute_mAP_from_file()`, which receives as parameters:\n",
    "    * A resulting file following the original format provided by the authors (see any of the `perfect_result_*.dat` files provided as an example)\n",
    "    * The ground truth file\n",
    "  \n",
    "We provide a perfect results file for each version of the dataset computed from the ground truth as an example:"
   ]
  },
  {
   "cell_type": "code",
   "execution_count": 17,
   "metadata": {
    "deletable": false,
    "editable": false,
    "nbgrader": {
     "cell_type": "code",
     "checksum": "23ebbb7e45982ddeeeca326d33dbab3d",
     "grade": false,
     "grade_id": "cell-2d847c89cc6787d9",
     "locked": true,
     "schema_version": 3,
     "solution": false,
     "task": false
    }
   },
   "outputs": [
    {
     "name": "stdout",
     "output_type": "stream",
     "text": [
      "mAP: 1.00000\n",
      "mAP: 1.00000\n"
     ]
    }
   ],
   "source": [
    "# Computing mAPs using ground truths\n",
    "m_ap = ev.compute_mAP_from_file('holidays/perfect_result.dat', 'holidays/holidays_images.dat')\n",
    "print('mAP: %.5f' % m_ap)\n",
    "\n",
    "m_ap = ev.compute_mAP_from_file('holidays_mini/perfect_result_mini.dat', 'holidays_mini/holidays_images.dat')\n",
    "print('mAP: %.5f' % m_ap)"
   ]
  },
  {
   "cell_type": "markdown",
   "metadata": {
    "deletable": false,
    "editable": false,
    "nbgrader": {
     "cell_type": "markdown",
     "checksum": "10dee8e661ef32362cbcafe297c4067c",
     "grade": false,
     "grade_id": "cell-460e7bfdab708ac0",
     "locked": true,
     "schema_version": 3,
     "solution": false,
     "task": false
    }
   },
   "source": [
    "* Using the function `compute_mAP()`, which receives:\n",
    "    * The query results as a dictionary (Execute the next cell to see an example of the format of this dictionary)\n",
    "    * The ground truth file\n",
    "  \n",
    "You should use this version if you don't want to save your results into a temporary file. This dictionary should contain, for each query image, an ordered list of the retrieved images. For example:"
   ]
  },
  {
   "cell_type": "code",
   "execution_count": 16,
   "metadata": {
    "deletable": false,
    "editable": false,
    "nbgrader": {
     "cell_type": "code",
     "checksum": "bba29ae88dbcd06b3c74f30d9cfbd62b",
     "grade": false,
     "grade_id": "cell-137d5e18b93195c0",
     "locked": true,
     "schema_version": 3,
     "solution": false,
     "task": false
    }
   },
   "outputs": [
    {
     "name": "stdout",
     "output_type": "stream",
     "text": [
      "{'100000.jpg': ['100001.jpg', '100002.jpg'], '100100.jpg': ['100101.jpg'], '100200.jpg': ['100201.jpg'], '100300.jpg': ['100301.jpg', '100302.jpg'], '100400.jpg': ['100401.jpg'], '100500.jpg': ['100501.jpg', '100502.jpg', '100503.jpg'], '100600.jpg': ['100601.jpg'], '100700.jpg': ['100701.jpg'], '100800.jpg': ['100801.jpg'], '100900.jpg': ['100901.jpg', '100902.jpg'], '101000.jpg': ['101001.jpg'], '101100.jpg': ['101101.jpg'], '101200.jpg': ['101201.jpg'], '101300.jpg': ['101301.jpg'], '101400.jpg': ['101401.jpg', '101402.jpg', '101403.jpg', '101404.jpg'], '101500.jpg': ['101501.jpg', '101502.jpg', '101503.jpg', '101504.jpg'], '101600.jpg': ['101601.jpg'], '101700.jpg': ['101701.jpg', '101702.jpg'], '101800.jpg': ['101801.jpg']}\n"
     ]
    }
   ],
   "source": [
    "# Reading the ground truth file to create a perfect results dictionary\n",
    "res = {}\n",
    "with open('holidays_mini/holidays_images.dat') as f:\n",
    "    for line in f:\n",
    "        imname = line.strip()\n",
    "        imno = int(imname[:-len(\".jpg\")])\n",
    "    \n",
    "        # Checking if this is a query image\n",
    "        if imno % 100 == 0:\n",
    "            results = []\n",
    "            res[imname] = results\n",
    "        else:\n",
    "            results.append(imname)\n",
    "print(res)"
   ]
  },
  {
   "cell_type": "markdown",
   "metadata": {
    "deletable": false,
    "editable": false,
    "nbgrader": {
     "cell_type": "markdown",
     "checksum": "0be500936af7b1045db3962868c5b3cf",
     "grade": false,
     "grade_id": "cell-6d87389307a49719",
     "locked": true,
     "schema_version": 3,
     "solution": false,
     "task": false
    }
   },
   "source": [
    "Then you can use this dictionary as the input parameters to the corresponding function to validate a CBIR system:"
   ]
  },
  {
   "cell_type": "code",
   "execution_count": 15,
   "metadata": {
    "deletable": false,
    "editable": false,
    "nbgrader": {
     "cell_type": "code",
     "checksum": "59901c10285da1f02fc778722723c31f",
     "grade": false,
     "grade_id": "cell-65d50f9a92e49294",
     "locked": true,
     "schema_version": 3,
     "solution": false,
     "task": false
    }
   },
   "outputs": [
    {
     "name": "stdout",
     "output_type": "stream",
     "text": [
      "mAP: 1.00000\n"
     ]
    }
   ],
   "source": [
    "m_ap = ev.compute_mAP(res, 'holidays_mini/holidays_images.dat')\n",
    "print('mAP: %.5f' % m_ap)"
   ]
  },
  {
   "cell_type": "markdown",
   "metadata": {
    "deletable": false,
    "editable": false,
    "nbgrader": {
     "cell_type": "markdown",
     "checksum": "88277e3b771bb7ee65a5e0e1f3b1d7c9",
     "grade": false,
     "grade_id": "cell-16a5337d1282ef37",
     "locked": true,
     "schema_version": 3,
     "solution": false,
     "task": false
    }
   },
   "source": [
    "### Loading images\n",
    "\n",
    "For managing images, we will create four lists:\n",
    "- **`query_names`**: File names of the *query* images\n",
    "- **`query_imgs`**: *Query* images loaded using OpenCV2\n",
    "- **`train_names`**: File names of the *train* (database) images\n",
    "- **`train_imgs`**: *Train* images loaded using OpenCV2"
   ]
  },
  {
   "cell_type": "code",
   "execution_count": null,
   "metadata": {
    "deletable": false,
    "editable": false,
    "nbgrader": {
     "cell_type": "code",
     "checksum": "96770fa318e1bf6565ec0a5cb1b9467d",
     "grade": false,
     "grade_id": "cell-4faacf901eda4dff",
     "locked": true,
     "schema_version": 3,
     "solution": false,
     "task": false
    }
   },
   "outputs": [],
   "source": [
    "# Separating the dataset into query and train images\n",
    "query_names = []\n",
    "query_imgs = []\n",
    "train_names = []\n",
    "train_imgs = []\n",
    "\n",
    "with open('holidays_mini/holidays_images.dat') as f:\n",
    "    for line in f:\n",
    "        imname = line.strip()\n",
    "        imno = int(imname[:-len(\".jpg\")])\n",
    "        img = cv2.imread('holidays_mini/images/' + imname)\n",
    "        # Resize the images for a faster operation in this assignment\n",
    "        img = cv2.resize(img, None, fx=0.25, fy=0.25, interpolation = cv2.INTER_CUBIC)\n",
    "    \n",
    "        # Checking if this is a query image\n",
    "        if imno % 100 == 0:\n",
    "            query_names.append(imname)\n",
    "            query_imgs.append(img)\n",
    "        else:\n",
    "            train_names.append(imname)\n",
    "            train_imgs.append(img)\n",
    "\n",
    "print(len(query_imgs))\n",
    "print(len(train_imgs))"
   ]
  },
  {
   "cell_type": "markdown",
   "metadata": {
    "deletable": false,
    "editable": false,
    "nbgrader": {
     "cell_type": "markdown",
     "checksum": "7fc1a2428cd8920c9a47a98d6f3f5ea6",
     "grade": false,
     "grade_id": "cell-a3da3430b62d5293",
     "locked": true,
     "schema_version": 3,
     "solution": false,
     "task": false
    }
   },
   "source": [
    "### Visualizing results\n",
    "Additionally, you are also provided with a class called `ResultViz`, which includes two functions (`show_results` and `show_one_result`) to show graphically the retrieved results for a specific query. Here are some examples of how to use this class:"
   ]
  },
  {
   "cell_type": "code",
   "execution_count": null,
   "metadata": {
    "deletable": false,
    "editable": false,
    "nbgrader": {
     "cell_type": "code",
     "checksum": "08408a855a852d2d2203d84a9ee07c24",
     "grade": false,
     "grade_id": "cell-6dec113a741d1bb6",
     "locked": true,
     "schema_version": 3,
     "solution": false,
     "task": false
    }
   },
   "outputs": [],
   "source": [
    "# Create the visualization object\n",
    "rv = ev.ResultViz(query_names, query_imgs, train_names, train_imgs)"
   ]
  },
  {
   "cell_type": "code",
   "execution_count": null,
   "metadata": {
    "deletable": false,
    "editable": false,
    "nbgrader": {
     "cell_type": "code",
     "checksum": "81729e8754ebb1777ebadad54b6b5ee5",
     "grade": false,
     "grade_id": "cell-52f1d24215bed0e7",
     "locked": true,
     "schema_version": 3,
     "solution": false,
     "task": false
    }
   },
   "outputs": [],
   "source": [
    "# Show the best 2 retrieved images for the first 5 queries\n",
    "rv.show_results(res, nqueries = 5, ntrains = 2)"
   ]
  },
  {
   "cell_type": "code",
   "execution_count": null,
   "metadata": {
    "deletable": false,
    "editable": false,
    "nbgrader": {
     "cell_type": "code",
     "checksum": "1329f38a0778b838a8dc7294d70ba42b",
     "grade": false,
     "grade_id": "cell-5ff853855527bc29",
     "locked": true,
     "schema_version": 3,
     "solution": false,
     "task": false
    }
   },
   "outputs": [],
   "source": [
    "# Show the best 2 retrieved images for the query image '100000.jpg'\n",
    "rv.show_one_result(res, '100000.jpg', ntrains = 2)"
   ]
  },
  {
   "cell_type": "markdown",
   "metadata": {
    "deletable": false,
    "editable": false,
    "nbgrader": {
     "cell_type": "markdown",
     "checksum": "41b0c274c1ad68ea87c743a74b309085",
     "grade": false,
     "grade_id": "cell-ec94d64764535767",
     "locked": true,
     "schema_version": 3,
     "solution": false,
     "task": false
    }
   },
   "source": [
    "## Global descriptors\n",
    "Once we have our development environment ready, it is time to start coding the assignment. At this section, we will use and evaluate some global descriptors to develop a simple image retrieval system."
   ]
  },
  {
   "cell_type": "markdown",
   "metadata": {
    "deletable": false,
    "editable": false,
    "nbgrader": {
     "cell_type": "markdown",
     "checksum": "4681379cd433b163507512bbda296219",
     "grade": false,
     "grade_id": "cell-c9e3e80204365f2a",
     "locked": true,
     "schema_version": 3,
     "solution": false,
     "task": false
    }
   },
   "source": [
    "### General framework\n",
    "First, we will develop some utilities to simplify our work. Write a [Python class](https://docs.python.org/3/tutorial/classes.html) called `CBIR` that will encapsulate the main functionalities of a CBIR system, using the provided descriptions for each method. Assume that there exists a function that can compute a global descriptor of a given image called `desc_func`, which will be implemented later in the assignment:"
   ]
  },
  {
   "cell_type": "code",
   "execution_count": 18,
   "metadata": {
    "deletable": false,
    "nbgrader": {
     "cell_type": "code",
     "checksum": "5c5b8b4ceae67e2c3fa6b99eacc6c464",
     "grade": false,
     "grade_id": "cell-155835378d5e814d",
     "locked": false,
     "schema_version": 3,
     "solution": true,
     "task": false
    }
   },
   "outputs": [],
   "source": [
    "class CBIR:\n",
    "    \"\"\"\n",
    "    Class to encapsulate the basic functionalities of a CBIR system.\n",
    "    \"\"\"\n",
    "    \n",
    "    def __init__(self, desc_func, **kwargs):\n",
    "        \"\"\"\n",
    "        Class constructor.\n",
    "        \n",
    "        - desc_func: The function to be used for describing the images\n",
    "        - kwargs: A variable number of parameters required to call desc_func.\n",
    "            This is a dictionary that can be unpacked within the function.\n",
    "            See more info here: https://realpython.com/python-kwargs-and-args/\n",
    "        \"\"\"\n",
    "        self.desc_func = desc_func\n",
    "        self.kwargs = kwargs\n",
    "        \n",
    "    def build_db(self, train_names, train_imgs):\n",
    "        \"\"\"\n",
    "        Create the CBIR system database.\n",
    "        \n",
    "        - train_names: An ordered list of the names of the train images\n",
    "        - train_imgs:  An ordered list of train images (Numpy arrays)\n",
    "        \n",
    "        This function should describe each image using desc_func and save the \n",
    "        resulting descriptors in a list of numpy arrays called train_descs.\n",
    "        You should also save the names of each image in an attribute called\n",
    "        train_names to associate each train image to its corresponding name.\n",
    "        \"\"\"\n",
    "      \n",
    "        self.train_names = []\n",
    "        self.train_descs = []\n",
    "        \n",
    "        # YOUR CODE HERE\n",
    "        for image, name in zip(train_imgs, train_names):\n",
    "            self.train_descs.append(desc_func(image))\n",
    "            self.train_names.append(name)\n",
    "        raise NotImplementedError()\n",
    "            \n",
    "    def search_image(self, query_img):\n",
    "        \"\"\"\n",
    "        Search an image in the system.\n",
    "        \n",
    "        - query_img: Query image (Numpy array)\n",
    "        \n",
    "        RETURNS:\n",
    "        - An ordered list of tuples, each one with the format (L2 distance, train image name)\n",
    "        \n",
    "        This function should describe the query image using desc_func. Next, the resulting\n",
    "        descriptor should be used to generate a list where each element is a tuple \n",
    "        (L2 distance, train image name), ordered according to the L2 distance between \n",
    "        the query descriptor and each corresponding train descriptor.\n",
    "        \"\"\"  \n",
    "        self.train_dist = []\n",
    "        \n",
    "        queryDesc=desc_func(query_img)\n",
    "        for destrain in self.train_descs:\n",
    "            #is the correct format to in to norm?\n",
    "            self.train_dist.append(np.linalg.norm(queryDesc,destrain)) \n",
    "        \n",
    "        self.train_names_L2ordered=orderByL2(self.train_dist,self.train_names)\n",
    "        show(self.train_names_L2ordered)\n",
    "        # YOUR CODE HERE\n",
    "        raise NotImplementedError()\n",
    "    \n",
    "    def compute_mAP(self, query_names, query_imgs, gt_file):\n",
    "        \"\"\"\n",
    "        Compute the mAP of a list of query images against the database.\n",
    "        \n",
    "        - query_names: An ordered list with the names of query images\n",
    "        - query_imgs: An ordered list of query images (Numpy arrays)\n",
    "        - gt_file = Ground truth file. Typically, 'holidays_images.dat'.\n",
    "        \n",
    "        RETURN: \n",
    "        - total_results: A dictionary containing, for each query image, an ordered list \n",
    "            of the retrieved images.\n",
    "        - m_ap: Mean Average Precision averaged over all queries.\n",
    "        \n",
    "        This function should use search_image and compute_mAP to compute the mAP of a set \n",
    "        of queries against the database. You should return the final resulting \n",
    "        dictionary, formatted as explained previously, and the computed mAP.\n",
    "        You can limit the number of results returned for each query image and check \n",
    "        how the mAP is affected.\n",
    "        \"\"\"\n",
    "        \n",
    "        total_results = {}\n",
    "        m_ap = 0.0\n",
    "        \n",
    "        # YOUR CODE HERE\n",
    "        for query_img in query_imgs:\n",
    "            search_image(query_img)\n",
    "            m_ap += ev.compute_mAP()\n",
    "        \n",
    "        return total_results, m_ap\n",
    "        raise NotImplementedError()"
   ]
  },
  {
   "cell_type": "markdown",
   "metadata": {
    "deletable": false,
    "editable": false,
    "nbgrader": {
     "cell_type": "markdown",
     "checksum": "d00c5a9fb02d902b8f95d06fa00ac339",
     "grade": false,
     "grade_id": "cell-407d59b82976a17b",
     "locked": true,
     "schema_version": 3,
     "solution": false,
     "task": false
    }
   },
   "source": [
    "### Color histograms\n",
    "Let's start with histograms. Write a function for computing a descriptor based on 1D color histograms called `compute_1d_color_hist`. The final descriptor of the image will be the concatenation of the **normalized** color histograms of the three individual channels (B, G and R):\n",
    "\n",
    "> **Useful functions**: [cv2.calcHist](https://docs.opencv.org/4.2.0/d6/dc7/group__imgproc__hist.html), [np.histogram](https://docs.scipy.org/doc/numpy/reference/generated/numpy.histogram.html)"
   ]
  },
  {
   "cell_type": "code",
   "execution_count": null,
   "metadata": {
    "deletable": false,
    "nbgrader": {
     "cell_type": "code",
     "checksum": "f8d353974bb318056ee212babefec14f",
     "grade": false,
     "grade_id": "cell-267361ae69d1c7be",
     "locked": false,
     "schema_version": 3,
     "solution": true,
     "task": false
    }
   },
   "outputs": [],
   "source": [
    "def compute_1d_color_hist(img, bins_per_hist = 32):\n",
    "    \"\"\"\n",
    "    Compute a 1d color histogram of the image.\n",
    "  \n",
    "    - img: Color image (Numpy array)\n",
    "    - bins_per_hist: Number of bins per histogram\n",
    "\n",
    "    RETURN: \n",
    "    - A numpy array of shape (bins_per_hist * 3,)\n",
    "    \"\"\"\n",
    "    # YOUR CODE HERE\n",
    "    raise NotImplementedError()"
   ]
  },
  {
   "cell_type": "code",
   "execution_count": null,
   "metadata": {
    "deletable": false,
    "editable": false,
    "nbgrader": {
     "cell_type": "code",
     "checksum": "b764d6642509139aebc6d5aacbd1d9bd",
     "grade": true,
     "grade_id": "cell-0099a455bc8c921c",
     "locked": true,
     "points": 0.25,
     "schema_version": 3,
     "solution": false,
     "task": false
    }
   },
   "outputs": [],
   "source": [
    "# Bins: 32\n",
    "h = compute_1d_color_hist(train_imgs[0], 32);\n",
    "assert h.shape == (96, )"
   ]
  },
  {
   "cell_type": "code",
   "execution_count": null,
   "metadata": {
    "deletable": false,
    "editable": false,
    "nbgrader": {
     "cell_type": "code",
     "checksum": "b0a9f540eff04fb59c9276127df25487",
     "grade": true,
     "grade_id": "cell-893acbf548a51f6e",
     "locked": true,
     "points": 0.25,
     "schema_version": 3,
     "solution": false,
     "task": false
    }
   },
   "outputs": [],
   "source": [
    "# Bins: 16\n",
    "h = compute_1d_color_hist(train_imgs[0], 16);\n",
    "assert h.shape == (48, )"
   ]
  },
  {
   "cell_type": "code",
   "execution_count": null,
   "metadata": {
    "deletable": false,
    "editable": false,
    "nbgrader": {
     "cell_type": "code",
     "checksum": "7e0e4546ed1862466499073d3286c08a",
     "grade": true,
     "grade_id": "cell-c1b947903d777935",
     "locked": true,
     "points": 0.25,
     "schema_version": 3,
     "solution": false,
     "task": false
    }
   },
   "outputs": [],
   "source": [
    "# Bins: 8\n",
    "h = compute_1d_color_hist(train_imgs[0], 8);\n",
    "assert h.shape == (24, )"
   ]
  },
  {
   "cell_type": "markdown",
   "metadata": {
    "deletable": false,
    "editable": false,
    "nbgrader": {
     "cell_type": "markdown",
     "checksum": "8d8772bf9e5ae775abbea8835556536e",
     "grade": false,
     "grade_id": "cell-a41f18f561fab190",
     "locked": true,
     "schema_version": 3,
     "solution": false,
     "task": false
    }
   },
   "source": [
    "**Q1**: Using this function and the `CBIR` class you wrote before, in the following cell compute the resulting **mAP** of the system **using 32 bins per histogram**:"
   ]
  },
  {
   "cell_type": "code",
   "execution_count": null,
   "metadata": {
    "deletable": false,
    "nbgrader": {
     "cell_type": "code",
     "checksum": "29a0b8e9da19dfbcc64ede73cbe63ea1",
     "grade": false,
     "grade_id": "cell-b9377e534b429b19",
     "locked": false,
     "schema_version": 3,
     "solution": true,
     "task": false
    }
   },
   "outputs": [],
   "source": [
    "# Fill this variable with the resulting mAP\n",
    "mAP_hist_1d = 0.0\n",
    "\n",
    "# YOUR CODE HERE\n",
    "raise NotImplementedError()"
   ]
  },
  {
   "cell_type": "code",
   "execution_count": null,
   "metadata": {
    "deletable": false,
    "editable": false,
    "nbgrader": {
     "cell_type": "code",
     "checksum": "2ccd55205a8b4eccfa49c9fcdc3a91cf",
     "grade": true,
     "grade_id": "cell-42876e23216f6362",
     "locked": true,
     "points": 0.4,
     "schema_version": 3,
     "solution": false,
     "task": false
    }
   },
   "outputs": [],
   "source": [
    "print('mAP: %.5f' % mAP_hist_1d)"
   ]
  },
  {
   "cell_type": "markdown",
   "metadata": {
    "deletable": false,
    "editable": false,
    "nbgrader": {
     "cell_type": "markdown",
     "checksum": "8e7edf5b1690e9be9e35205a44c7e789",
     "grade": false,
     "grade_id": "cell-54debc38b6f7e9a5",
     "locked": true,
     "schema_version": 3,
     "solution": false,
     "task": false
    }
   },
   "source": [
    "**Q2**: What is the effect of changing the number of bins per histogram?"
   ]
  },
  {
   "cell_type": "markdown",
   "metadata": {
    "deletable": false,
    "editable": false,
    "nbgrader": {
     "cell_type": "markdown",
     "checksum": "0ba4078748933d2d42153dd121fbf5bb",
     "grade": false,
     "grade_id": "cell-b6a57097b350571e",
     "locked": true,
     "points": 0.5,
     "schema_version": 3,
     "solution": false,
     "task": true
    }
   },
   "source": [
    "Write here the code required to answer the questions stated above. You can add more cells (code / markdown) at this point if you need it."
   ]
  },
  {
   "cell_type": "markdown",
   "metadata": {
    "deletable": false,
    "editable": false,
    "nbgrader": {
     "cell_type": "markdown",
     "checksum": "fae322eff2e5b108e4751cccbb203b0f",
     "grade": false,
     "grade_id": "cell-d4ee402851dd270e",
     "locked": true,
     "schema_version": 3,
     "solution": false,
     "task": false
    }
   },
   "source": [
    "---\n",
    "Now write a function called `compute_2d_color_hist` for computing a global descriptor of the image using 2D color histograms. The descriptor of the image will be the concatenation of the **normalized** histograms emerging from the three possible combinations of color channels (B/G, B/R and G/R):"
   ]
  },
  {
   "cell_type": "code",
   "execution_count": null,
   "metadata": {
    "deletable": false,
    "nbgrader": {
     "cell_type": "code",
     "checksum": "1ac8af475151d00aac108f0cd44535c1",
     "grade": false,
     "grade_id": "cell-5278dee101a1d5c2",
     "locked": false,
     "schema_version": 3,
     "solution": true,
     "task": false
    }
   },
   "outputs": [],
   "source": [
    "def compute_2d_color_hist(img, bins_per_hist = 16):\n",
    "    \"\"\"\n",
    "    Compute a 2d color histogram of the image.\n",
    "    \n",
    "    The final descriptor will be the concatenation of 3 normalized 2D histograms: B/G, B/R and G/R.\n",
    "  \n",
    "    - img: Color image (Numpy array)\n",
    "    - bins_per_hist: Number of bins per histogram\n",
    "\n",
    "    RETURN:\n",
    "    - A numpy array of shape (bins_per_hist * bins_per_hist * 3,)\n",
    "    \"\"\"\n",
    "    # YOUR CODE HERE\n",
    "    raise NotImplementedError()"
   ]
  },
  {
   "cell_type": "code",
   "execution_count": null,
   "metadata": {
    "deletable": false,
    "editable": false,
    "nbgrader": {
     "cell_type": "code",
     "checksum": "65fe762ab462b938b7671805fcb65cf1",
     "grade": true,
     "grade_id": "cell-e7f31eea8227b3c3",
     "locked": true,
     "points": 0.5,
     "schema_version": 3,
     "solution": false,
     "task": false
    }
   },
   "outputs": [],
   "source": [
    "# Bins: 32\n",
    "h = compute_2d_color_hist(train_imgs[0], 32);\n",
    "assert h.shape == (3072, )"
   ]
  },
  {
   "cell_type": "code",
   "execution_count": null,
   "metadata": {
    "deletable": false,
    "editable": false,
    "nbgrader": {
     "cell_type": "code",
     "checksum": "12d4e5223308738c794d23a6fa155e2d",
     "grade": true,
     "grade_id": "cell-1ca3c73986b4ab8d",
     "locked": true,
     "points": 0.25,
     "schema_version": 3,
     "solution": false,
     "task": false
    }
   },
   "outputs": [],
   "source": [
    "# Bins: 16\n",
    "h = compute_2d_color_hist(train_imgs[0], 16);\n",
    "assert h.shape == (768, )"
   ]
  },
  {
   "cell_type": "markdown",
   "metadata": {
    "deletable": false,
    "editable": false,
    "nbgrader": {
     "cell_type": "markdown",
     "checksum": "55fdeae2396bbeb3e96d4388c3bd73aa",
     "grade": false,
     "grade_id": "cell-55b5057aabb2828f",
     "locked": true,
     "schema_version": 3,
     "solution": false,
     "task": false
    }
   },
   "source": [
    "**Q3**: Using this function and the `CBIR` class you wrote before, in the following cell compute the resulting **mAP** of the system **using 32 bins per histogram**:"
   ]
  },
  {
   "cell_type": "code",
   "execution_count": null,
   "metadata": {
    "deletable": false,
    "nbgrader": {
     "cell_type": "code",
     "checksum": "cd2fb7722859b858973ab12c2ac668c2",
     "grade": false,
     "grade_id": "cell-603e2000c9e986c2",
     "locked": false,
     "schema_version": 3,
     "solution": true,
     "task": false
    }
   },
   "outputs": [],
   "source": [
    "# Fill this variable with the resulting mAP\n",
    "mAP_hist_2d = 0.0\n",
    "\n",
    "# YOUR CODE HERE\n",
    "raise NotImplementedError()"
   ]
  },
  {
   "cell_type": "code",
   "execution_count": null,
   "metadata": {
    "deletable": false,
    "editable": false,
    "nbgrader": {
     "cell_type": "code",
     "checksum": "c70f6ff2c2c1daaf9b032a18abe5b72b",
     "grade": true,
     "grade_id": "cell-c93ee6dd68dfe940",
     "locked": true,
     "points": 0.4,
     "schema_version": 3,
     "solution": false,
     "task": false
    }
   },
   "outputs": [],
   "source": [
    "print('mAP: %.5f' % mAP_hist_2d)"
   ]
  },
  {
   "cell_type": "markdown",
   "metadata": {
    "deletable": false,
    "editable": false,
    "nbgrader": {
     "cell_type": "markdown",
     "checksum": "6058cea4aaa652ae103c464367638f8b",
     "grade": false,
     "grade_id": "cell-23fc3653611bf620",
     "locked": true,
     "schema_version": 3,
     "solution": false,
     "task": false
    }
   },
   "source": [
    "**Q4**: What is the effect of changing the number of bins per histogram?"
   ]
  },
  {
   "cell_type": "markdown",
   "metadata": {
    "deletable": false,
    "editable": false,
    "nbgrader": {
     "cell_type": "markdown",
     "checksum": "98b3bb6ef7d9dbd3b924954602f2717c",
     "grade": false,
     "grade_id": "cell-061a8c19f774b6ca",
     "locked": true,
     "points": 0.5,
     "schema_version": 3,
     "solution": false,
     "task": true
    }
   },
   "source": [
    "Write here the code required to answer the questions stated above. You can add more cells (code / markdown) at this point if you need it."
   ]
  },
  {
   "cell_type": "markdown",
   "metadata": {
    "deletable": false,
    "editable": false,
    "nbgrader": {
     "cell_type": "markdown",
     "checksum": "032357d6104022e1f7e28cce99c8bcb2",
     "grade": false,
     "grade_id": "cell-c8538288b8003025",
     "locked": true,
     "schema_version": 3,
     "solution": false,
     "task": false
    }
   },
   "source": [
    "### Local Binary Patterns (LBP)\n",
    "\n",
    "Let's try LBP. Implement a function called `compute_lbp_descriptor` to calculate an image descriptor based on LBP's. The descriptor of the image should use the _rotation invariant_ and _uniform_ (_riu_) version of the algorithm. The final image descriptor will be the **normalized** histogram of the resulting LBP image:\n",
    "\n",
    "> **Useful functions**: [skimage.feature.local_binary_pattern](https://scikit-image.org/docs/dev/api/skimage.feature.html?highlight=lbp#skimage.feature.local_binary_pattern)"
   ]
  },
  {
   "cell_type": "code",
   "execution_count": null,
   "metadata": {
    "deletable": false,
    "nbgrader": {
     "cell_type": "code",
     "checksum": "16ed94d1d5c9ca8604d7e0e632e80479",
     "grade": false,
     "grade_id": "cell-ffee42bac126337d",
     "locked": false,
     "schema_version": 3,
     "solution": true,
     "task": false
    }
   },
   "outputs": [],
   "source": [
    "def compute_lbp_descriptor(img, p = 8, r = 1):\n",
    "    \"\"\"\n",
    "    Compute a rotation invariant and uniform LBP histogram as image descriptor.\n",
    "  \n",
    "    - img: Input image (Numpy array)\n",
    "    - p: Neighbors to check in radius r\n",
    "    - r: Radius in pixels\n",
    "\n",
    "    RETURN: \n",
    "    - A numpy array of shape (p + 2,)\n",
    "    \"\"\"    \n",
    "    # YOUR CODE HERE\n",
    "    raise NotImplementedError()"
   ]
  },
  {
   "cell_type": "code",
   "execution_count": null,
   "metadata": {
    "deletable": false,
    "editable": false,
    "nbgrader": {
     "cell_type": "code",
     "checksum": "11ff1d5dd56be82e2ab27982ce4bc503",
     "grade": true,
     "grade_id": "cell-835596f619768100",
     "locked": true,
     "points": 0.25,
     "schema_version": 3,
     "solution": false,
     "task": false
    }
   },
   "outputs": [],
   "source": [
    "h = compute_lbp_descriptor(train_imgs[0], 8, 1);\n",
    "assert h.shape == (10, )"
   ]
  },
  {
   "cell_type": "markdown",
   "metadata": {
    "deletable": false,
    "editable": false,
    "nbgrader": {
     "cell_type": "markdown",
     "checksum": "1cc9fed1b0e2747ff190f5da59d2b132",
     "grade": false,
     "grade_id": "cell-55b5057aabb2829",
     "locked": true,
     "schema_version": 3,
     "solution": false,
     "task": false
    }
   },
   "source": [
    "**Q5**: Using this function and the `CBIR` class you wrote before, in the following cell compute the resulting **mAP** of the system **checking 8 neighbors for each pixel at a distance of 1**:"
   ]
  },
  {
   "cell_type": "code",
   "execution_count": null,
   "metadata": {
    "deletable": false,
    "nbgrader": {
     "cell_type": "code",
     "checksum": "2721942802d100d03160fe840b6f2ddb",
     "grade": false,
     "grade_id": "cell-c7020f9db21f8717",
     "locked": false,
     "schema_version": 3,
     "solution": true,
     "task": false
    }
   },
   "outputs": [],
   "source": [
    "# Fill this variable with the resulting mAP\n",
    "mAP_lbp = 0.0\n",
    "\n",
    "# YOUR CODE HERE\n",
    "raise NotImplementedError()"
   ]
  },
  {
   "cell_type": "code",
   "execution_count": null,
   "metadata": {
    "deletable": false,
    "editable": false,
    "nbgrader": {
     "cell_type": "code",
     "checksum": "fbce763599ecd755a8122c7ad96dbf6e",
     "grade": true,
     "grade_id": "cell-15c038564c2b08b2",
     "locked": true,
     "points": 0.4,
     "schema_version": 3,
     "solution": false,
     "task": false
    }
   },
   "outputs": [],
   "source": [
    "print('mAP: %.5f' % mAP_lbp)"
   ]
  },
  {
   "cell_type": "markdown",
   "metadata": {
    "deletable": false,
    "editable": false,
    "nbgrader": {
     "cell_type": "markdown",
     "checksum": "c7690e75dc49e192ba4930f4e0a8ae4d",
     "grade": false,
     "grade_id": "cell-8f7c29b7ada19524",
     "locked": true,
     "schema_version": 3,
     "solution": false,
     "task": false
    }
   },
   "source": [
    "**Q6**: What is the effect of modifying the number of neighboring pixels $p$ and the radius $r$?"
   ]
  },
  {
   "cell_type": "markdown",
   "metadata": {
    "deletable": false,
    "editable": false,
    "nbgrader": {
     "cell_type": "markdown",
     "checksum": "d5d03d93733bed7aaf791d27da57baa2",
     "grade": false,
     "grade_id": "cell-47f0e673d868bf2e",
     "locked": true,
     "points": 0.3,
     "schema_version": 3,
     "solution": false,
     "task": true
    }
   },
   "source": [
    "Write here the code required to answer the questions stated above. You can add more cells (code / markdown) at this point if you need it."
   ]
  },
  {
   "cell_type": "markdown",
   "metadata": {
    "deletable": false,
    "editable": false,
    "nbgrader": {
     "cell_type": "markdown",
     "checksum": "a965da34632dce46f033d02685a3e6a6",
     "grade": false,
     "grade_id": "cell-e9b739e4caf1c266",
     "locked": true,
     "schema_version": 3,
     "solution": false,
     "task": false
    }
   },
   "source": [
    "**Q7**: Study the effect of using a grid to describe the image."
   ]
  },
  {
   "cell_type": "markdown",
   "metadata": {
    "deletable": false,
    "editable": false,
    "nbgrader": {
     "cell_type": "markdown",
     "checksum": "4bbcba726c3dcb71a2dd06fc3233cc32",
     "grade": false,
     "grade_id": "cell-eaeb3ea88b01a80c",
     "locked": true,
     "points": 0.5,
     "schema_version": 3,
     "solution": false,
     "task": true
    }
   },
   "source": [
    "Write here the code required to answer the questions stated above. You can add more cells (code / markdown) at this point if you need it."
   ]
  },
  {
   "cell_type": "markdown",
   "metadata": {
    "deletable": false,
    "editable": false,
    "nbgrader": {
     "cell_type": "markdown",
     "checksum": "9b1d549866ac412049d2de74a7dd3d67",
     "grade": false,
     "grade_id": "cell-54644ad01cf2aea2",
     "locked": true,
     "schema_version": 3,
     "solution": false,
     "task": false
    }
   },
   "source": [
    "## Local descriptors\n",
    "In this section we are going to retrieve images using some of the local descriptors we covered in class."
   ]
  },
  {
   "cell_type": "markdown",
   "metadata": {
    "deletable": false,
    "editable": false,
    "nbgrader": {
     "cell_type": "markdown",
     "checksum": "4f4ba9bfc4ceb1d3be10db62da06a032",
     "grade": false,
     "grade_id": "cell-080f2f513bddbec5",
     "locked": true,
     "schema_version": 3,
     "solution": false,
     "task": false
    }
   },
   "source": [
    "### Keypoint extraction / description\n",
    "\n",
    "Let's start by writing a function called `extract_interest_points` to extract a set of keypoints from an image and their corresponding descriptors. The function will receive a parameter called `feat_type` to indicate what method should be used to detect and describe keypoints. This parameter can have one of the following string values:\n",
    "- `SIFT`: SIFT detector / descriptor\n",
    "- `FAST_BRIEF`: FAST detector / BRIEF descriptor\n",
    "- `ORB`: ORB detector / ORB descriptor\n",
    "\n",
    "> **Useful functions**: [cv2.SIFT_create()](https://docs.opencv.org/4.5.4/d7/d60/classcv_1_1SIFT.html#ad337517bfdc068ae0ba0924ff1661131),  [cv2.FastFeatureDetector_create](https://docs.opencv.org/4.5.4/df/d74/classcv_1_1FastFeatureDetector.html#ab986f2ff8f8778aab1707e2642bc7f8e), [cv2.xfeatures2d.BriefDescriptorExtractor_create](https://docs.opencv.org/4.5.4/d1/d93/classcv_1_1xfeatures2d_1_1BriefDescriptorExtractor.html#ae3bc52666010fb137ab6f0d32de51f60), [cv2.ORB_create](https://docs.opencv.org/4.5.4/db/d95/classcv_1_1ORB.html#aeff0cbe668659b7ca14bb85ff1c4073b)"
   ]
  },
  {
   "cell_type": "code",
   "execution_count": null,
   "metadata": {
    "deletable": false,
    "nbgrader": {
     "cell_type": "code",
     "checksum": "5fd86438055962e81d8f6b9df9b7940c",
     "grade": false,
     "grade_id": "cell-28de819a92eeb53c",
     "locked": false,
     "schema_version": 3,
     "solution": true,
     "task": false
    }
   },
   "outputs": [],
   "source": [
    "def extract_interest_points(img, feat_type = 'SIFT', nfeats = 500, thresh = 50):\n",
    "    \"\"\"\n",
    "    Compute keypoints and their corresponding descriptors from an image.\n",
    "  \n",
    "    - img: Input image (Numpy array)\n",
    "    - feat_type: Detection / description method. See cell above\n",
    "    - nfeats: Maximum number of features. It can be directly used to configure SIFT and ORB.\n",
    "    - thresh: Detection threshold. Useful for FAST and ORB.\n",
    "  \n",
    "    RETURN:\n",
    "    - kp: A tuple with the detected keypoints (cv2.KeyPoint)\n",
    "    - des: A numpy array of shape (number_of_kps, descriptor_size) of type:\n",
    "        - 'np.float32' for SIFT\n",
    "        - 'np.uint8' for BRIEF and ORB\n",
    "    \"\"\"\n",
    "    kp = []\n",
    "    des = []\n",
    "    \n",
    "    # YOUR CODE HERE\n",
    "    raise NotImplementedError()\n",
    "  \n",
    "    return kp,des"
   ]
  },
  {
   "cell_type": "markdown",
   "metadata": {
    "deletable": false,
    "editable": false,
    "nbgrader": {
     "cell_type": "markdown",
     "checksum": "2369c50315f7cf6857441e931a5ce8c8",
     "grade": false,
     "grade_id": "cell-efb645d22b5026f3",
     "locked": true,
     "schema_version": 3,
     "solution": false,
     "task": false
    }
   },
   "source": [
    "You can check the function showing the resulting keypoints (`cv2.drawKeypoints`):"
   ]
  },
  {
   "cell_type": "code",
   "execution_count": null,
   "metadata": {
    "deletable": false,
    "editable": false,
    "nbgrader": {
     "cell_type": "code",
     "checksum": "533f490c849b788cb2f4c8a6f788af0c",
     "grade": true,
     "grade_id": "cell-34511a8ed253298a",
     "locked": true,
     "points": 0.4,
     "schema_version": 3,
     "solution": false,
     "task": false
    }
   },
   "outputs": [],
   "source": [
    "kps, des = extract_interest_points(query_imgs[1], 'SIFT', nfeats=2000, thresh=75)\n",
    "sift_image = cv2.drawKeypoints(query_imgs[1], kps, None)\n",
    "\n",
    "plt.imshow(sift_image)\n",
    "plt.title('SIFT Keypoints')\n",
    "plt.show()"
   ]
  },
  {
   "cell_type": "markdown",
   "metadata": {
    "deletable": false,
    "editable": false,
    "nbgrader": {
     "cell_type": "markdown",
     "checksum": "dc5e589c94e4c9d4f65cfd75f9b5e4bb",
     "grade": false,
     "grade_id": "cell-e6273a4f79f0e691",
     "locked": true,
     "schema_version": 3,
     "solution": false,
     "task": false
    }
   },
   "source": [
    "### Matching images\n",
    "\n",
    "Next, write a function called `find_matches` to match two set of descriptors. For simplicity, use a brute-force approach for binary descriptors and a FLANN-based approach for floating point descriptors:\n",
    "> **Useful links**: [cv2.BFMatcher_create](https://docs.opencv.org/4.5.4/d3/da1/classcv_1_1BFMatcher.html#ac6418c6f87e0e12a88979ea57980c020), [cv2.FlannBasedMatcher](https://docs.opencv.org/4.5.4/dc/de2/classcv_1_1FlannBasedMatcher.html#a7b17083dda906384465a32952c1bbe3b), [Feature Matching](https://docs.opencv.org/4.5.4/dc/dc3/tutorial_py_matcher.html)"
   ]
  },
  {
   "cell_type": "code",
   "execution_count": null,
   "metadata": {
    "deletable": false,
    "nbgrader": {
     "cell_type": "code",
     "checksum": "5aca309395e747794cd5340a6cd35377",
     "grade": false,
     "grade_id": "cell-bed51bd0900f4abc",
     "locked": false,
     "schema_version": 3,
     "solution": true,
     "task": false
    }
   },
   "outputs": [],
   "source": [
    "def find_matches(query_desc, train_desc, k = 2):\n",
    "    \"\"\"\n",
    "    Match two sets of descriptors. For each query descriptor, this method searches\n",
    "    the k closest descriptors in the train set.\n",
    "  \n",
    "    - query_desc: A numpy array of shape (number_of_kps_query, descriptor_size)\n",
    "    - train_desc: A numpy array of shape (number_of_kps_train, descriptor_size)\n",
    "    - k: Number of nearest neighbors descriptors to retrieve\n",
    "  \n",
    "    RETURN:\n",
    "    - A tuple where each element is an item of matches, a tuple as well, containing:\n",
    "        - As first item the best match (cv2.DMatch)\n",
    "        - As second item, the second best match (cv2.DMatch)\n",
    "        - And so on, until k\n",
    "    \"\"\"\n",
    "    # YOUR CODE HERE\n",
    "    raise NotImplementedError()"
   ]
  },
  {
   "cell_type": "markdown",
   "metadata": {
    "deletable": false,
    "editable": false,
    "nbgrader": {
     "cell_type": "markdown",
     "checksum": "58afeea9c7e38ce0d849f910aa30e10d",
     "grade": false,
     "grade_id": "cell-378cd1c892fd4e81",
     "locked": true,
     "schema_version": 3,
     "solution": false,
     "task": false
    }
   },
   "source": [
    "### Filtering matches\n",
    "\n",
    "Write a function called `filter_matches` to filter the resulting matches according to the Nearest Neighbor Distance Ratio (NNDR) criterion:"
   ]
  },
  {
   "cell_type": "code",
   "execution_count": null,
   "metadata": {
    "deletable": false,
    "nbgrader": {
     "cell_type": "code",
     "checksum": "301537de6c8f75602672edd437e0ccbc",
     "grade": false,
     "grade_id": "cell-9164700b89ab1623",
     "locked": false,
     "schema_version": 3,
     "solution": true,
     "task": false
    }
   },
   "outputs": [],
   "source": [
    "def filter_matches(matches, ratio = 0.75):\n",
    "    \"\"\"\n",
    "    Given a tuple of matches, apply the NNDR test to filter them.\n",
    "  \n",
    "    - matches: A tuple of matches. See 'find_matches' for further info\n",
    "    - ratio: Ratio to be applied between the best and the second best matches\n",
    "        for each query\n",
    "  \n",
    "    RETURN:\n",
    "    - A list of filtered matches, where each item is a cv2.DMatch object\n",
    "      that fullfiled the ratio test condition.\n",
    "    \"\"\"\n",
    "    # YOUR CODE HERE\n",
    "    raise NotImplementedError()"
   ]
  },
  {
   "cell_type": "markdown",
   "metadata": {
    "deletable": false,
    "editable": false,
    "nbgrader": {
     "cell_type": "markdown",
     "checksum": "a9ec56021fd886189f8f9ca7b451b0a6",
     "grade": false,
     "grade_id": "cell-ea00eabf1690294b",
     "locked": true,
     "schema_version": 3,
     "solution": false,
     "task": false
    }
   },
   "source": [
    "You can check your implementation of these functions using `cv2.drawMatches`:"
   ]
  },
  {
   "cell_type": "code",
   "execution_count": null,
   "metadata": {
    "deletable": false,
    "editable": false,
    "nbgrader": {
     "cell_type": "code",
     "checksum": "1a53a700e877b81c0f48a9050f39aed2",
     "grade": true,
     "grade_id": "cell-8daebb7fb243a298",
     "locked": true,
     "points": 0.25,
     "schema_version": 3,
     "solution": false,
     "task": false
    }
   },
   "outputs": [],
   "source": [
    "# Extract keypoints from the query image\n",
    "kps_q, des_q = extract_interest_points(query_imgs[1], 'SIFT', nfeats=3000, thresh=25)\n",
    "\n",
    "# Extract keypoints from the train image\n",
    "kps_t, des_t = extract_interest_points(train_imgs[2], 'SIFT', nfeats=3000, thresh=25)\n",
    "\n",
    "raw_matches = find_matches(des_q, des_t)\n",
    "print(len(raw_matches))"
   ]
  },
  {
   "cell_type": "code",
   "execution_count": null,
   "metadata": {
    "deletable": false,
    "editable": false,
    "nbgrader": {
     "cell_type": "code",
     "checksum": "78f036ed6b97cd44ac08edf192cf7f25",
     "grade": true,
     "grade_id": "cell-0ba2f0b219903aee",
     "locked": true,
     "points": 0.25,
     "schema_version": 3,
     "solution": false,
     "task": false
    }
   },
   "outputs": [],
   "source": [
    "matches = filter_matches(raw_matches, ratio = 0.6)\n",
    "print(len(matches))\n",
    "img_matches = cv2.drawMatches(query_imgs[0], kps_q, train_imgs[0], kps_t, matches, None, flags=cv2.DrawMatchesFlags_NOT_DRAW_SINGLE_POINTS)\n",
    "\n",
    "plt.imshow(img_matches)\n",
    "plt.title('Correct matches')\n",
    "plt.show()"
   ]
  },
  {
   "cell_type": "markdown",
   "metadata": {
    "deletable": false,
    "editable": false,
    "nbgrader": {
     "cell_type": "markdown",
     "checksum": "a1c4e8fb31aff44f517a8123d2f36033",
     "grade": false,
     "grade_id": "cell-f0d0fb3f06adcf87",
     "locked": true,
     "schema_version": 3,
     "solution": false,
     "task": false
    }
   },
   "source": [
    "### Performance\n",
    "We can now compare images using local feature descriptors. Given a query image, its closest one in the database will be the image with the **highest number matches after filtering**. Let's reimplement our function `compute_mAP` but using local feature descriptors:"
   ]
  },
  {
   "cell_type": "code",
   "execution_count": null,
   "metadata": {
    "deletable": false,
    "nbgrader": {
     "cell_type": "code",
     "checksum": "9d8922d9f72d8c3db36209e552b48488",
     "grade": false,
     "grade_id": "cell-e3772f9406294b83",
     "locked": false,
     "schema_version": 3,
     "solution": true,
     "task": false
    }
   },
   "outputs": [],
   "source": [
    "def compute_mAP(query_names, query_imgs, train_names, train_imgs, feat_type='SIFT', nfeats = 500, thresh = 40, ratio = 0.75):\n",
    "    \"\"\"\n",
    "    Perform a search for a list of query images against the database using local \n",
    "    feature descriptors. Retrieved images should be sorted according to the \n",
    "    total number of matches, in reverse order.\n",
    "    \n",
    "    - query_names: An ordered list with the names of the query images\n",
    "    - query_imgs: An ordered list of query images (Numpy arrays)\n",
    "    - train_names: An ordered list with the names of the train images\n",
    "    - train_imgs: An ordered list of train images (Numpy arrays)\n",
    "    - feat_type: Detection / description method. See above\n",
    "    - nfeats: Number of features. It can directly be configured for SIFT and ORB\n",
    "    - thresh: Detection threshold. Useful for FAST and ORB\n",
    "    - ratio: Ratio to be applied as NNDR\n",
    "  \n",
    "    RETURN: \n",
    "    - total_results: A dictionary containing, for each query image, an sorted list of the database images\n",
    "    - m_ap: Mean Average Precision averaged over all queries\n",
    "    \"\"\"\n",
    "    \n",
    "    total_results = {}\n",
    "    m_ap = 0.0\n",
    "    \n",
    "    # YOUR CODE HERE\n",
    "    raise NotImplementedError()\n",
    "  \n",
    "    return total_results, m_ap"
   ]
  },
  {
   "cell_type": "code",
   "execution_count": null,
   "metadata": {
    "deletable": false,
    "editable": false,
    "nbgrader": {
     "cell_type": "code",
     "checksum": "e0cdf4d24f40d8c71d673f012c44204f",
     "grade": true,
     "grade_id": "cell-294ca57efbca3266",
     "locked": true,
     "points": 0.35,
     "schema_version": 3,
     "solution": false,
     "task": false
    }
   },
   "outputs": [],
   "source": [
    "results, m_ap = compute_mAP(query_names, query_imgs, train_names, train_imgs)\n",
    "print(m_ap)"
   ]
  },
  {
   "cell_type": "markdown",
   "metadata": {
    "deletable": false,
    "editable": false,
    "nbgrader": {
     "cell_type": "markdown",
     "checksum": "c685d333822b4771b9582ce97b660a06",
     "grade": false,
     "grade_id": "cell-5e0cb38eeb442717",
     "locked": true,
     "schema_version": 3,
     "solution": false,
     "task": false
    }
   },
   "source": [
    "**Q8**: For each method (SIFT, FAST/BRIEF and ORB), play with its corresponding parameters in order to achieve the best possible performance in terms of mAP."
   ]
  },
  {
   "cell_type": "code",
   "execution_count": null,
   "metadata": {
    "deletable": false,
    "nbgrader": {
     "cell_type": "code",
     "checksum": "0467789590e8d4b308962dfb70cae707",
     "grade": false,
     "grade_id": "cell-0c0a8da6a6745db4",
     "locked": false,
     "schema_version": 3,
     "solution": true,
     "task": false
    }
   },
   "outputs": [],
   "source": [
    "# Fill these variables with the best resulting mAPs\n",
    "best_mAP_SIFT = 0.0\n",
    "best_mAP_FASTBRIEF = 0.0\n",
    "best_mAP_ORB = 0.0\n",
    "# YOUR CODE HERE\n",
    "raise NotImplementedError()"
   ]
  },
  {
   "cell_type": "code",
   "execution_count": null,
   "metadata": {
    "deletable": false,
    "editable": false,
    "nbgrader": {
     "cell_type": "code",
     "checksum": "fcbb18e50bd61ed85959118d8d7d236d",
     "grade": true,
     "grade_id": "cell-af8339fc2f5e1c83",
     "locked": true,
     "points": 0.5,
     "schema_version": 3,
     "solution": false,
     "task": false
    }
   },
   "outputs": [],
   "source": [
    "print('Best mAP (SIFT): %.5f' % best_mAP_SIFT)\n",
    "print('Best mAP (FAST/BRIEF): %.5f' % best_mAP_FASTBRIEF)\n",
    "print('Best mAP (ORB): %.5f' % best_mAP_ORB)"
   ]
  },
  {
   "cell_type": "markdown",
   "metadata": {
    "deletable": false,
    "editable": false,
    "nbgrader": {
     "cell_type": "markdown",
     "checksum": "2c4dbdf70c6dc7e920b2a50b033b437b",
     "grade": false,
     "grade_id": "cell-06897177d3eacb74",
     "locked": true,
     "schema_version": 3,
     "solution": false,
     "task": false
    }
   },
   "source": [
    "**Q9**: Compare the three different methods in terms of accuracy. Which one is the most accurate method? Which one is the least?"
   ]
  },
  {
   "cell_type": "markdown",
   "metadata": {
    "deletable": false,
    "editable": false,
    "nbgrader": {
     "cell_type": "markdown",
     "checksum": "5a34ed24f9e08a740cf99c0db0c42de2",
     "grade": false,
     "grade_id": "cell-f897fbda062b223a",
     "locked": true,
     "points": 0.25,
     "schema_version": 3,
     "solution": false,
     "task": true
    }
   },
   "source": [
    "Write here the code required to answer the questions stated above. You can add more cells (code / markdown) at this point if you need it."
   ]
  },
  {
   "cell_type": "markdown",
   "metadata": {
    "deletable": false,
    "editable": false,
    "nbgrader": {
     "cell_type": "markdown",
     "checksum": "bfcc46fcd821be31ca7ac20dfa582d64",
     "grade": false,
     "grade_id": "cell-5993e54575ff2733",
     "locked": true,
     "schema_version": 3,
     "solution": false,
     "task": false
    }
   },
   "source": [
    "**Q10**: Compare the three different methods in terms of detection/description speed. Which one is the fastest method? Which one is the slowest?\n",
    "\n",
    "> **Hints**:\n",
    "> - [Here](https://jakevdp.github.io/PythonDataScienceHandbook/01.07-timing-and-profiling.html) you can find a useful link about timing in Jupyter Notebooks\n",
    "> - You can also consider using the `time` module\n",
    "> - To provide a measure independent of the number of features found in the image, you can compute, for instance, features / ms"
   ]
  },
  {
   "cell_type": "markdown",
   "metadata": {
    "deletable": false,
    "editable": false,
    "nbgrader": {
     "cell_type": "markdown",
     "checksum": "e066e821700e163bfee883a94c28f371",
     "grade": false,
     "grade_id": "cell-326e2f27f4542a9f",
     "locked": true,
     "points": 0.25,
     "schema_version": 3,
     "solution": false,
     "task": true
    }
   },
   "source": [
    "Write here the code required to answer the questions stated above. You can add more cells (code / markdown) at this point if you need it."
   ]
  },
  {
   "cell_type": "markdown",
   "metadata": {
    "deletable": false,
    "editable": false,
    "nbgrader": {
     "cell_type": "markdown",
     "checksum": "cc2d2067065c6fc7a54b4a11b6411adb",
     "grade": false,
     "grade_id": "cell-b22a42f6badbd455",
     "locked": true,
     "schema_version": 3,
     "solution": false,
     "task": false
    }
   },
   "source": [
    "## Submitting your work\n",
    "\n",
    "**Important**: Please make sure that the submitted notebooks have been run and the cell outputs are visible.\n",
    "\n",
    "**Important**: Please make also sure that you have filled the **NAME** and **DNI** variables at the beginning of the notebook, **using the indicated format**.\n",
    "\n",
    "Once you have filled out the necessary code and you are happy with your solution, **save your notebook** and execute the following cell:"
   ]
  },
  {
   "cell_type": "code",
   "execution_count": null,
   "metadata": {
    "deletable": false,
    "editable": false,
    "nbgrader": {
     "cell_type": "code",
     "checksum": "0dcd9ac5763cf8f3e09526fe827cfbcf",
     "grade": false,
     "grade_id": "cell-cb9816f6daf7e9b7",
     "locked": true,
     "schema_version": 3,
     "solution": false,
     "task": false
    }
   },
   "outputs": [],
   "source": [
    "zip_filename = DNI + '_A1.zip'\n",
    "zf = zipfile.ZipFile(zip_filename, mode = 'w')\n",
    "\n",
    "aname = 'submitted/' + DNI + '/A1/Image_Descriptors.ipynb'\n",
    "zf.write('Image_Descriptors.ipynb', arcname = aname);\n",
    "\n",
    "zf.close()"
   ]
  },
  {
   "cell_type": "markdown",
   "metadata": {
    "deletable": false,
    "editable": false,
    "nbgrader": {
     "cell_type": "markdown",
     "checksum": "c77c83caf907cebd533485bebb4e177a",
     "grade": false,
     "grade_id": "cell-cc9005d57245a3eb",
     "locked": true,
     "schema_version": 3,
     "solution": false,
     "task": false
    }
   },
   "source": [
    "This will generate a zip file of your code called `DNI_A1.zip` in the same directory of the assignment. This is the file that you must upload to [Aula Digital](https://ad.uib.es/) to submit your work!"
   ]
  },
  {
   "cell_type": "markdown",
   "metadata": {
    "deletable": false,
    "editable": false,
    "nbgrader": {
     "cell_type": "markdown",
     "checksum": "a3e5f552b4935747a0f94ab360623ea5",
     "grade": false,
     "grade_id": "cell_foot_1",
     "locked": true,
     "schema_version": 3,
     "solution": false,
     "task": false
    }
   },
   "source": [
    "---\n",
    "\n",
    "&copy; Emilio Garcia-Fidalgo, University of the Balearic Islands"
   ]
  }
 ],
 "metadata": {
  "kernelspec": {
   "display_name": "Python 3 (ipykernel)",
   "language": "python",
   "name": "python3"
  },
  "language_info": {
   "codemirror_mode": {
    "name": "ipython",
    "version": 3
   },
   "file_extension": ".py",
   "mimetype": "text/x-python",
   "name": "python",
   "nbconvert_exporter": "python",
   "pygments_lexer": "ipython3",
   "version": "3.10.13"
  }
 },
 "nbformat": 4,
 "nbformat_minor": 1
}
